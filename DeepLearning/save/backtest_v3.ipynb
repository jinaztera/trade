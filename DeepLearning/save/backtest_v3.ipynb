{
 "cells": [
  {
   "cell_type": "code",
   "execution_count": 68,
   "metadata": {},
   "outputs": [
    {
     "name": "stdout",
     "output_type": "stream",
     "text": [
      "Binance\n",
      "XRP/USDT:USDT\n",
      "EOS/USDT:USDT\n",
      "ATOM/USDT:USDT\n",
      "XLM/USDT:USDT\n",
      "BTC/USDT:USDT\n",
      "XMR/USDT:USDT\n",
      "ZEC/USDT:USDT\n",
      "ADA/USDT:USDT\n",
      "BCH/USDT:USDT\n",
      "XTZ/USDT:USDT\n",
      "TRX/USDT:USDT\n",
      "ETH/USDT:USDT\n",
      "ETC/USDT:USDT\n",
      "LINK/USDT:USDT\n",
      "DASH/USDT:USDT\n",
      "LTC/USDT:USDT\n"
     ]
    }
   ],
   "source": [
    "import ccxt\n",
    "import pprint\n",
    "\n",
    "# with open(\"../binance.key\") as f:\n",
    "#     lines = f.readlines()\n",
    "#     api_key = lines[0].strip()\n",
    "#     api_secret = lines[1].strip()\n",
    "   \n",
    "\n",
    "api_key = \"3o8od3V5ePVCnZ19u34KydThmSgbD2ekCV4yD9ZclRogzMvMl4RPFlfLW8fVpzFX\"\n",
    "api_secret = \"ZRzqHcLKS7Lnemy5cwM2Cck0HRnguN59jQvzAqrrXAoZvGwS9AKZk1dHbvZqBXyA\"\n",
    "\n",
    "exchange = ccxt.binance(config={\n",
    "    'apiKey': api_key,\n",
    "    'secret': api_secret,\n",
    "    'enableRateLimit': True,\n",
    "    'options': {\n",
    "        'defaultType': 'future'       # 선물 거래\n",
    "    }\n",
    "})\n",
    "print(exchange)\n",
    "\n",
    "markets = exchange.load_markets()\n",
    "tickers = exchange.fetch_tickers()\n",
    "\n",
    "# :usdt 종목 선별\n",
    "symbols = tickers.keys()\n",
    "usdt_symbols = [x for x in symbols if x.endswith(\"USDT\")]\n",
    "\n",
    "import pandas as pd\n",
    "\n",
    "timeframe = '1d'\n",
    "\n",
    "# 각 코인의 가격 데이터를 저장할 딕셔너리\n",
    "prices_data = {}\n",
    "\n",
    "# 각 심볼에 대해 OHLCV 데이터를 가져와서 딕셔너리에 저장\n",
    "for symbol in usdt_symbols:\n",
    "    ohlcv = exchange.fetch_ohlcv(symbol=symbol, timeframe=timeframe, limit=2000)\n",
    "    df = pd.DataFrame(ohlcv, columns=['datetime', 'open', 'high', 'low', 'close', 'volume'])\n",
    "    df['datetime'] = pd.to_datetime(df['datetime'], unit='ms')  # timestamp를 datetime으로 변환\n",
    "    \n",
    "    if len(df) > 1400:\n",
    "        print(symbol)\n",
    "        prices_data[symbol] = df"
   ]
  },
  {
   "cell_type": "code",
   "execution_count": 73,
   "metadata": {},
   "outputs": [
    {
     "data": {
      "text/plain": [
       "16"
      ]
     },
     "execution_count": 73,
     "metadata": {},
     "output_type": "execute_result"
    }
   ],
   "source": [
    "len(prices_data)"
   ]
  },
  {
   "cell_type": "code",
   "execution_count": 72,
   "metadata": {},
   "outputs": [
    {
     "data": {
      "text/html": [
       "<div>\n",
       "<style scoped>\n",
       "    .dataframe tbody tr th:only-of-type {\n",
       "        vertical-align: middle;\n",
       "    }\n",
       "\n",
       "    .dataframe tbody tr th {\n",
       "        vertical-align: top;\n",
       "    }\n",
       "\n",
       "    .dataframe thead th {\n",
       "        text-align: right;\n",
       "    }\n",
       "</style>\n",
       "<table border=\"1\" class=\"dataframe\">\n",
       "  <thead>\n",
       "    <tr style=\"text-align: right;\">\n",
       "      <th></th>\n",
       "      <th>datetime</th>\n",
       "      <th>open</th>\n",
       "      <th>high</th>\n",
       "      <th>low</th>\n",
       "      <th>close</th>\n",
       "      <th>volume</th>\n",
       "    </tr>\n",
       "  </thead>\n",
       "  <tbody>\n",
       "    <tr>\n",
       "      <th>0</th>\n",
       "      <td>2020-01-08</td>\n",
       "      <td>2.884</td>\n",
       "      <td>2.914</td>\n",
       "      <td>2.685</td>\n",
       "      <td>2.778</td>\n",
       "      <td>4425075.7</td>\n",
       "    </tr>\n",
       "    <tr>\n",
       "      <th>1</th>\n",
       "      <td>2020-01-09</td>\n",
       "      <td>2.777</td>\n",
       "      <td>2.799</td>\n",
       "      <td>2.695</td>\n",
       "      <td>2.745</td>\n",
       "      <td>5378993.3</td>\n",
       "    </tr>\n",
       "    <tr>\n",
       "      <th>2</th>\n",
       "      <td>2020-01-10</td>\n",
       "      <td>2.741</td>\n",
       "      <td>3.006</td>\n",
       "      <td>2.650</td>\n",
       "      <td>2.983</td>\n",
       "      <td>7255081.9</td>\n",
       "    </tr>\n",
       "    <tr>\n",
       "      <th>3</th>\n",
       "      <td>2020-01-11</td>\n",
       "      <td>2.988</td>\n",
       "      <td>3.128</td>\n",
       "      <td>2.941</td>\n",
       "      <td>2.992</td>\n",
       "      <td>6997566.2</td>\n",
       "    </tr>\n",
       "    <tr>\n",
       "      <th>4</th>\n",
       "      <td>2020-01-12</td>\n",
       "      <td>2.992</td>\n",
       "      <td>3.214</td>\n",
       "      <td>2.932</td>\n",
       "      <td>3.207</td>\n",
       "      <td>11263428.0</td>\n",
       "    </tr>\n",
       "    <tr>\n",
       "      <th>...</th>\n",
       "      <td>...</td>\n",
       "      <td>...</td>\n",
       "      <td>...</td>\n",
       "      <td>...</td>\n",
       "      <td>...</td>\n",
       "      <td>...</td>\n",
       "    </tr>\n",
       "    <tr>\n",
       "      <th>1427</th>\n",
       "      <td>2023-12-05</td>\n",
       "      <td>0.720</td>\n",
       "      <td>0.752</td>\n",
       "      <td>0.712</td>\n",
       "      <td>0.744</td>\n",
       "      <td>155075190.0</td>\n",
       "    </tr>\n",
       "    <tr>\n",
       "      <th>1428</th>\n",
       "      <td>2023-12-06</td>\n",
       "      <td>0.743</td>\n",
       "      <td>0.753</td>\n",
       "      <td>0.718</td>\n",
       "      <td>0.740</td>\n",
       "      <td>163849091.6</td>\n",
       "    </tr>\n",
       "    <tr>\n",
       "      <th>1429</th>\n",
       "      <td>2023-12-07</td>\n",
       "      <td>0.740</td>\n",
       "      <td>0.793</td>\n",
       "      <td>0.737</td>\n",
       "      <td>0.770</td>\n",
       "      <td>203042239.0</td>\n",
       "    </tr>\n",
       "    <tr>\n",
       "      <th>1430</th>\n",
       "      <td>2023-12-08</td>\n",
       "      <td>0.771</td>\n",
       "      <td>0.801</td>\n",
       "      <td>0.760</td>\n",
       "      <td>0.800</td>\n",
       "      <td>105177537.5</td>\n",
       "    </tr>\n",
       "    <tr>\n",
       "      <th>1431</th>\n",
       "      <td>2023-12-09</td>\n",
       "      <td>0.799</td>\n",
       "      <td>0.867</td>\n",
       "      <td>0.799</td>\n",
       "      <td>0.839</td>\n",
       "      <td>198816554.5</td>\n",
       "    </tr>\n",
       "  </tbody>\n",
       "</table>\n",
       "<p>1432 rows × 6 columns</p>\n",
       "</div>"
      ],
      "text/plain": [
       "       datetime   open   high    low  close       volume\n",
       "0    2020-01-08  2.884  2.914  2.685  2.778    4425075.7\n",
       "1    2020-01-09  2.777  2.799  2.695  2.745    5378993.3\n",
       "2    2020-01-10  2.741  3.006  2.650  2.983    7255081.9\n",
       "3    2020-01-11  2.988  3.128  2.941  2.992    6997566.2\n",
       "4    2020-01-12  2.992  3.214  2.932  3.207   11263428.0\n",
       "...         ...    ...    ...    ...    ...          ...\n",
       "1427 2023-12-05  0.720  0.752  0.712  0.744  155075190.0\n",
       "1428 2023-12-06  0.743  0.753  0.718  0.740  163849091.6\n",
       "1429 2023-12-07  0.740  0.793  0.737  0.770  203042239.0\n",
       "1430 2023-12-08  0.771  0.801  0.760  0.800  105177537.5\n",
       "1431 2023-12-09  0.799  0.867  0.799  0.839  198816554.5\n",
       "\n",
       "[1432 rows x 6 columns]"
      ]
     },
     "execution_count": 72,
     "metadata": {},
     "output_type": "execute_result"
    }
   ],
   "source": []
  },
  {
   "cell_type": "markdown",
   "metadata": {},
   "source": [
    "### 모델 학습"
   ]
  },
  {
   "cell_type": "code",
   "execution_count": 159,
   "metadata": {},
   "outputs": [],
   "source": [
    "import pandas as pd\n",
    "import numpy as np\n",
    "from sklearn.preprocessing import MinMaxScaler\n",
    "\n",
    "# 윈도우 사이즈\n",
    "window_size = 30\n",
    "\n",
    "data = prices_data['EOS/USDT:USDT']\n",
    "\n",
    "# 윈도우에 따른 데이터 정규화 함수 정의\n",
    "def window_scaler(window_data):\n",
    "    scaler = MinMaxScaler()\n",
    "    return scaler.fit_transform(window_data)\n",
    "\n",
    "columns = ['open', 'high', 'low', 'close', 'volume']\n",
    "scaled_data = []\n",
    "\n",
    "# 데이터 합치기\n",
    "# for key, value in prices_data.items():\n",
    "#     data = value\n",
    "#     for start in range(len(data) - window_size):\n",
    "#         end = start + window_size\n",
    "#         window_data = data[columns][start:end]\n",
    "#         scaled_window_data = window_scaler(window_data)\n",
    "#         scaled_data.append(scaled_window_data)\n",
    "\n",
    "# 개별\n",
    "for start in range(len(data) - window_size):\n",
    "    end = start + window_size\n",
    "    window_data = data[columns][start:end]\n",
    "    scaled_window_data = window_scaler(window_data)\n",
    "    scaled_data.append(scaled_window_data)\n",
    "\n",
    "        \n",
    "# 리스트를 numpy 배열로 변환\n",
    "scaled_data = np.array(scaled_data)\n",
    "\n",
    "# 예측할 조건 설정\n",
    "forecast_days = 7  # 예측하려는 일수\n",
    "\n",
    "# 특성(Features)과 레이블(Labels)을 위한 빈 리스트 생성\n",
    "features = []\n",
    "labels = []\n"
   ]
  },
  {
   "cell_type": "code",
   "execution_count": 160,
   "metadata": {},
   "outputs": [],
   "source": [
    "# 예측 조건에 따른 레이블 생성\n",
    "# for key, value in prices_data.items():\n",
    "#     data = value\n",
    "#     for i in range(len(data) - window_size - forecast_days):\n",
    "#         print(i)\n",
    "#         features.append(scaled_data[i])\n",
    "#         close_today = data['close'][i + window_size - 1]\n",
    "#         close_future = data['close'][i + window_size + forecast_days - 1]\n",
    "#         labels.append(int(close_future > close_today))\n",
    "\n",
    "        \n",
    "for i in range(len(scaled_data) - forecast_days):\n",
    "    features.append(scaled_data[i])\n",
    "    close_today = data['close'][i + window_size - 1]\n",
    "    close_future = data['close'][i + window_size + forecast_days - 1]\n",
    "    labels.append(int(close_future > close_today))\n",
    "\n",
    "# numpy 배열로 변환\n",
    "features = np.array(features)\n",
    "labels = np.array(labels)\n",
    "\n",
    "from sklearn.model_selection import train_test_split\n",
    "\n",
    "# 데이터를 학습 세트와 테스트 세트로 분할\n",
    "X_train, X_test, y_train, y_test = train_test_split(features, labels, test_size=0.3, random_state=42)\n",
    "\n",
    "from sklearn.ensemble import RandomForestClassifier\n",
    "from sklearn.metrics import classification_report, confusion_matrix\n",
    "\n",
    "# 모델 생성\n",
    "model = RandomForestClassifier(n_estimators=100, random_state=42)\n",
    "\n",
    "# 데이터 차원 변경:\n",
    "nsamples, nx, ny = X_train.shape\n",
    "X_train_2d = X_train.reshape((nsamples, nx*ny))\n",
    "\n",
    "# 모델 학습\n",
    "model.fit(X_train_2d, y_train)\n",
    "\n",
    "#테스트 데이터\n",
    "nsamples, nx, ny = X_test.shape\n",
    "X_test_2d = X_test.reshape((nsamples, nx*ny))\n"
   ]
  },
  {
   "cell_type": "code",
   "execution_count": 161,
   "metadata": {},
   "outputs": [
    {
     "name": "stdout",
     "output_type": "stream",
     "text": [
      "              precision    recall  f1-score   support\n",
      "\n",
      "           0       0.53      0.73      0.62       196\n",
      "           1       0.65      0.43      0.51       223\n",
      "\n",
      "    accuracy                           0.57       419\n",
      "   macro avg       0.59      0.58      0.56       419\n",
      "weighted avg       0.59      0.57      0.56       419\n",
      "\n",
      "[[144  52]\n",
      " [128  95]]\n"
     ]
    }
   ],
   "source": [
    "# 성능 평가\n",
    "predictions = model.predict(X_test_2d)\n",
    "print(classification_report(y_test, predictions))\n",
    "print(confusion_matrix(y_test, predictions))\n"
   ]
  },
  {
   "cell_type": "code",
   "execution_count": 77,
   "metadata": {},
   "outputs": [
    {
     "data": {
      "text/plain": [
       "(22364, 30, 5)"
      ]
     },
     "execution_count": 77,
     "metadata": {},
     "output_type": "execute_result"
    }
   ],
   "source": [
    "scaled_data.shape"
   ]
  },
  {
   "cell_type": "markdown",
   "metadata": {},
   "source": [
    "## 백테스트\n"
   ]
  },
  {
   "cell_type": "code",
   "execution_count": 118,
   "metadata": {},
   "outputs": [
    {
     "name": "stdout",
     "output_type": "stream",
     "text": [
      "1번째 데이터 - Key: EOS/USDT:USDT, Value:        datetime   open   high    low  close       volume\n",
      "0    2020-01-08  2.884  2.914  2.685  2.778    4425075.7\n",
      "1    2020-01-09  2.777  2.799  2.695  2.745    5378993.3\n",
      "2    2020-01-10  2.741  3.006  2.650  2.983    7255081.9\n",
      "3    2020-01-11  2.988  3.128  2.941  2.992    6997566.2\n",
      "4    2020-01-12  2.992  3.214  2.932  3.207   11263428.0\n",
      "...         ...    ...    ...    ...    ...          ...\n",
      "1427 2023-12-05  0.720  0.752  0.712  0.744  155075190.0\n",
      "1428 2023-12-06  0.743  0.753  0.718  0.740  163849091.6\n",
      "1429 2023-12-07  0.740  0.793  0.737  0.770  203042239.0\n",
      "1430 2023-12-08  0.771  0.801  0.760  0.800  105177537.5\n",
      "1431 2023-12-09  0.799  0.867  0.799  0.839  198816554.5\n",
      "\n",
      "[1432 rows x 6 columns]\n"
     ]
    }
   ],
   "source": [
    "# i번째 데이터를 가져오고자 하는 경우 (예: i = 1)\n",
    "i = 1\n",
    "keys = list(prices_data.keys())  # 딕셔너리의 키를 리스트로 변환\n",
    "values = list(prices_data.values())  # 딕셔너리의 값들을 리스트로 변환\n",
    "\n",
    "if 0 <= i < len(keys):\n",
    "    key_i = keys[i]\n",
    "    value_i = values[i]\n",
    "    print(f'{i}번째 데이터 - Key: {key_i}, Value: {value_i}')\n",
    "else:\n",
    "    print(f'{i}번째 데이터를 찾을 수 없습니다.')\n",
    "\n",
    "data = value_i"
   ]
  },
  {
   "cell_type": "code",
   "execution_count": 162,
   "metadata": {},
   "outputs": [
    {
     "data": {
      "image/png": "[encoded data removed]",
      "text/plain": [
       "<Figure size 1200x600 with 1 Axes>"
      ]
     },
     "metadata": {},
     "output_type": "display_data"
    },
    {
     "data": {
      "image/png": "[encoded data removed]",
      "text/plain": [
       "<Figure size 1200x600 with 1 Axes>"
      ]
     },
     "metadata": {},
     "output_type": "display_data"
    }
   ],
   "source": [
    "# 과거 주식 데이터 로드\n",
    "historical_data = data\n",
    "# 데이터 정규화 및 특성 생성\n",
    "scaled_historical_data = []\n",
    "for start in range(len(historical_data) - window_size):\n",
    "    end = start + window_size\n",
    "    window_data = historical_data[columns][start:end]\n",
    "    scaled_window_data = window_scaler(window_data)\n",
    "    scaled_historical_data.append(scaled_window_data)\n",
    "\n",
    "scaled_historical_data = np.array(scaled_historical_data)\n",
    "\n",
    "# 특성 생성\n",
    "historical_features = []\n",
    "for i in range(len(scaled_historical_data) - forecast_days):\n",
    "    historical_features.append(scaled_historical_data[i])\n",
    "\n",
    "historical_features = np.array(historical_features)\n",
    "\n",
    "# 백테스팅을 위한 데이터 차원 변경\n",
    "nsamples, nx, ny = historical_features.shape\n",
    "historical_features_2d = historical_features.reshape((nsamples, nx*ny))\n",
    "\n",
    "# 모델로 과거 데이터 예측\n",
    "historical_predictions = model.predict(historical_features_2d)\n",
    "\n",
    "import matplotlib.pyplot as plt\n",
    "\n",
    "dates = historical_data['datetime'][window_size + forecast_days - 1:len(historical_predictions) + window_size + forecast_days - 1]\n",
    "\n",
    "# 백테스팅 시뮬레이션\n",
    "initial_capital = 1000.0\n",
    "capital = initial_capital\n",
    "capital_history = []  # 초기 자본을 리스트에 추가\n",
    "profit_history = []\n",
    "bet_size = 100\n",
    "\n",
    "\n",
    "# historical_predictions의 길이에 맞게 반복\n",
    "for i in range(len(historical_predictions)):\n",
    "    # 예측에 해당하는 실제 인덱스 계산\n",
    "    actual_index = i + window_size + forecast_days - 1\n",
    "    if historical_predictions[i] == 1:\n",
    "        # 상승 예측: 매수 포지션\n",
    "        if capital >= bet_size:\n",
    "            profit = bet_size * (historical_data['close'][actual_index] / historical_data['close'][actual_index - forecast_days] - 1)\n",
    "            profit_history.append(profit)\n",
    "            capital += profit  # 수익 추가\n",
    "    elif historical_predictions[i] == 0:\n",
    "        # 하락 예측: 매도 포지션\n",
    "        if capital >= bet_size:\n",
    "            profit = bet_size * (1 - historical_data['close'][actual_index] / historical_data['close'][actual_index - forecast_days])\n",
    "            profit_history.append(profit)\n",
    "            capital += profit  # 수익 추가\n",
    "\n",
    "    capital_history.append(capital)\n",
    "\n",
    "# dates 리스트 생성\n",
    "dates = historical_data['datetime'][window_size + forecast_days - 1: window_size + forecast_days - 1 + len(historical_predictions)]\n",
    "\n",
    "# 자본 변화 시각화\n",
    "plt.figure(figsize=(12, 6))\n",
    "plt.plot(dates, capital_history, label='Capital Over Time', color='blue')\n",
    "plt.title('Capital Over Time During Backtesting')\n",
    "plt.xlabel('Date')\n",
    "plt.ylabel('Capital')\n",
    "plt.legend()\n",
    "plt.show()\n",
    "\n",
    "# 주가 데이터 시각화\n",
    "plt.figure(figsize=(12, 6))\n",
    "plt.plot(dates, historical_data['close'][window_size + forecast_days - 1:window_size + forecast_days - 1 + len(historical_predictions)], label='Stock Price', color='green')\n",
    "plt.title('Stock Price Over Time')\n",
    "plt.xlabel('Date')\n",
    "plt.ylabel('Stock Price')\n",
    "plt.legend()\n",
    "plt.show()\n",
    "\n"
   ]
  },
  {
   "cell_type": "code",
   "execution_count": 164,
   "metadata": {},
   "outputs": [
    {
     "ename": "ValueError",
     "evalue": "All arrays must be of the same length",
     "output_type": "error",
     "traceback": [
      "\u001b[1;31m---------------------------------------------------------------------------\u001b[0m",
      "\u001b[1;31mValueError\u001b[0m                                Traceback (most recent call last)",
      "\u001b[1;32mc:\\Programming\\trade\\DeepLearning\\backtest_v3.ipynb 셀 12\u001b[0m line \u001b[0;36m1\n\u001b[0;32m      <a href='vscode-notebook-cell:/c%3A/Programming/trade/DeepLearning/backtest_v3.ipynb#X11sZmlsZQ%3D%3D?line=1'>2</a>\u001b[0m prediction_success \u001b[39m=\u001b[39m [\n\u001b[0;32m      <a href='vscode-notebook-cell:/c%3A/Programming/trade/DeepLearning/backtest_v3.ipynb#X11sZmlsZQ%3D%3D?line=2'>3</a>\u001b[0m     \u001b[39m1\u001b[39m \u001b[39mif\u001b[39;00m (historical_predictions[i] \u001b[39m==\u001b[39m \u001b[39m1\u001b[39m \u001b[39mand\u001b[39;00m historical_data[\u001b[39m'\u001b[39m\u001b[39mclose\u001b[39m\u001b[39m'\u001b[39m][window_size \u001b[39m+\u001b[39m forecast_days \u001b[39m-\u001b[39m \u001b[39m1\u001b[39m \u001b[39m+\u001b[39m i] \u001b[39m>\u001b[39m historical_data[\u001b[39m'\u001b[39m\u001b[39mclose\u001b[39m\u001b[39m'\u001b[39m][window_size \u001b[39m+\u001b[39m forecast_days \u001b[39m-\u001b[39m \u001b[39m1\u001b[39m \u001b[39m+\u001b[39m i \u001b[39m-\u001b[39m forecast_days]) \u001b[39mor\u001b[39;00m\n\u001b[0;32m      <a href='vscode-notebook-cell:/c%3A/Programming/trade/DeepLearning/backtest_v3.ipynb#X11sZmlsZQ%3D%3D?line=3'>4</a>\u001b[0m        (historical_predictions[i] \u001b[39m==\u001b[39m \u001b[39m0\u001b[39m \u001b[39mand\u001b[39;00m historical_data[\u001b[39m'\u001b[39m\u001b[39mclose\u001b[39m\u001b[39m'\u001b[39m][window_size \u001b[39m+\u001b[39m forecast_days \u001b[39m-\u001b[39m \u001b[39m1\u001b[39m \u001b[39m+\u001b[39m i] \u001b[39m<\u001b[39m historical_data[\u001b[39m'\u001b[39m\u001b[39mclose\u001b[39m\u001b[39m'\u001b[39m][window_size \u001b[39m+\u001b[39m forecast_days \u001b[39m-\u001b[39m \u001b[39m1\u001b[39m \u001b[39m+\u001b[39m i \u001b[39m-\u001b[39m forecast_days])\n\u001b[0;32m      <a href='vscode-notebook-cell:/c%3A/Programming/trade/DeepLearning/backtest_v3.ipynb#X11sZmlsZQ%3D%3D?line=4'>5</a>\u001b[0m     \u001b[39melse\u001b[39;00m \u001b[39m0\u001b[39m\n\u001b[0;32m      <a href='vscode-notebook-cell:/c%3A/Programming/trade/DeepLearning/backtest_v3.ipynb#X11sZmlsZQ%3D%3D?line=5'>6</a>\u001b[0m     \u001b[39mfor\u001b[39;00m i \u001b[39min\u001b[39;00m \u001b[39mrange\u001b[39m(\u001b[39mlen\u001b[39m(historical_predictions))\n\u001b[0;32m      <a href='vscode-notebook-cell:/c%3A/Programming/trade/DeepLearning/backtest_v3.ipynb#X11sZmlsZQ%3D%3D?line=6'>7</a>\u001b[0m ]\n\u001b[0;32m      <a href='vscode-notebook-cell:/c%3A/Programming/trade/DeepLearning/backtest_v3.ipynb#X11sZmlsZQ%3D%3D?line=8'>9</a>\u001b[0m \u001b[39m# DataFrame 생성\u001b[39;00m\n\u001b[1;32m---> <a href='vscode-notebook-cell:/c%3A/Programming/trade/DeepLearning/backtest_v3.ipynb#X11sZmlsZQ%3D%3D?line=9'>10</a>\u001b[0m backtesting_df \u001b[39m=\u001b[39m pd\u001b[39m.\u001b[39;49mDataFrame({\n\u001b[0;32m     <a href='vscode-notebook-cell:/c%3A/Programming/trade/DeepLearning/backtest_v3.ipynb#X11sZmlsZQ%3D%3D?line=10'>11</a>\u001b[0m     \u001b[39m'\u001b[39;49m\u001b[39mDate\u001b[39;49m\u001b[39m'\u001b[39;49m: dates,\n\u001b[0;32m     <a href='vscode-notebook-cell:/c%3A/Programming/trade/DeepLearning/backtest_v3.ipynb#X11sZmlsZQ%3D%3D?line=11'>12</a>\u001b[0m     \u001b[39m'\u001b[39;49m\u001b[39mOpen\u001b[39;49m\u001b[39m'\u001b[39;49m: historical_data[\u001b[39m'\u001b[39;49m\u001b[39mopen\u001b[39;49m\u001b[39m'\u001b[39;49m][window_size \u001b[39m+\u001b[39;49m forecast_days \u001b[39m-\u001b[39;49m \u001b[39m1\u001b[39;49m:window_size \u001b[39m+\u001b[39;49m forecast_days \u001b[39m-\u001b[39;49m \u001b[39m1\u001b[39;49m \u001b[39m+\u001b[39;49m \u001b[39mlen\u001b[39;49m(historical_predictions)],\n\u001b[0;32m     <a href='vscode-notebook-cell:/c%3A/Programming/trade/DeepLearning/backtest_v3.ipynb#X11sZmlsZQ%3D%3D?line=12'>13</a>\u001b[0m     \u001b[39m'\u001b[39;49m\u001b[39mHigh\u001b[39;49m\u001b[39m'\u001b[39;49m: historical_data[\u001b[39m'\u001b[39;49m\u001b[39mhigh\u001b[39;49m\u001b[39m'\u001b[39;49m][window_size \u001b[39m+\u001b[39;49m forecast_days \u001b[39m-\u001b[39;49m \u001b[39m1\u001b[39;49m:window_size \u001b[39m+\u001b[39;49m forecast_days \u001b[39m-\u001b[39;49m \u001b[39m1\u001b[39;49m \u001b[39m+\u001b[39;49m \u001b[39mlen\u001b[39;49m(historical_predictions)],\n\u001b[0;32m     <a href='vscode-notebook-cell:/c%3A/Programming/trade/DeepLearning/backtest_v3.ipynb#X11sZmlsZQ%3D%3D?line=13'>14</a>\u001b[0m     \u001b[39m'\u001b[39;49m\u001b[39mLow\u001b[39;49m\u001b[39m'\u001b[39;49m: historical_data[\u001b[39m'\u001b[39;49m\u001b[39mlow\u001b[39;49m\u001b[39m'\u001b[39;49m][window_size \u001b[39m+\u001b[39;49m forecast_days \u001b[39m-\u001b[39;49m \u001b[39m1\u001b[39;49m:window_size \u001b[39m+\u001b[39;49m forecast_days \u001b[39m-\u001b[39;49m \u001b[39m1\u001b[39;49m \u001b[39m+\u001b[39;49m \u001b[39mlen\u001b[39;49m(historical_predictions)],\n\u001b[0;32m     <a href='vscode-notebook-cell:/c%3A/Programming/trade/DeepLearning/backtest_v3.ipynb#X11sZmlsZQ%3D%3D?line=14'>15</a>\u001b[0m     \u001b[39m'\u001b[39;49m\u001b[39mClose\u001b[39;49m\u001b[39m'\u001b[39;49m: historical_data[\u001b[39m'\u001b[39;49m\u001b[39mclose\u001b[39;49m\u001b[39m'\u001b[39;49m][window_size \u001b[39m+\u001b[39;49m forecast_days \u001b[39m-\u001b[39;49m \u001b[39m1\u001b[39;49m:window_size \u001b[39m+\u001b[39;49m forecast_days \u001b[39m-\u001b[39;49m \u001b[39m1\u001b[39;49m \u001b[39m+\u001b[39;49m \u001b[39mlen\u001b[39;49m(historical_predictions)],\n\u001b[0;32m     <a href='vscode-notebook-cell:/c%3A/Programming/trade/DeepLearning/backtest_v3.ipynb#X11sZmlsZQ%3D%3D?line=15'>16</a>\u001b[0m     \u001b[39m'\u001b[39;49m\u001b[39mProfit\u001b[39;49m\u001b[39m'\u001b[39;49m: profit_history,\n\u001b[0;32m     <a href='vscode-notebook-cell:/c%3A/Programming/trade/DeepLearning/backtest_v3.ipynb#X11sZmlsZQ%3D%3D?line=16'>17</a>\u001b[0m     \u001b[39m'\u001b[39;49m\u001b[39mCapital\u001b[39;49m\u001b[39m'\u001b[39;49m: capital_history,  \u001b[39m# 첫 번째 초기 자본 제외\u001b[39;49;00m\n\u001b[0;32m     <a href='vscode-notebook-cell:/c%3A/Programming/trade/DeepLearning/backtest_v3.ipynb#X11sZmlsZQ%3D%3D?line=17'>18</a>\u001b[0m     \u001b[39m'\u001b[39;49m\u001b[39mPrediction\u001b[39;49m\u001b[39m'\u001b[39;49m: historical_predictions,\n\u001b[0;32m     <a href='vscode-notebook-cell:/c%3A/Programming/trade/DeepLearning/backtest_v3.ipynb#X11sZmlsZQ%3D%3D?line=18'>19</a>\u001b[0m     \u001b[39m'\u001b[39;49m\u001b[39mPrediction Success\u001b[39;49m\u001b[39m'\u001b[39;49m: prediction_success\n\u001b[0;32m     <a href='vscode-notebook-cell:/c%3A/Programming/trade/DeepLearning/backtest_v3.ipynb#X11sZmlsZQ%3D%3D?line=19'>20</a>\u001b[0m })\n\u001b[0;32m     <a href='vscode-notebook-cell:/c%3A/Programming/trade/DeepLearning/backtest_v3.ipynb#X11sZmlsZQ%3D%3D?line=21'>22</a>\u001b[0m \u001b[39m# DataFrame 출력\u001b[39;00m\n\u001b[0;32m     <a href='vscode-notebook-cell:/c%3A/Programming/trade/DeepLearning/backtest_v3.ipynb#X11sZmlsZQ%3D%3D?line=22'>23</a>\u001b[0m \u001b[39mprint\u001b[39m(backtesting_df)\n",
      "File \u001b[1;32mc:\\Users\\tomkj\\anaconda3\\envs\\autobot\\lib\\site-packages\\pandas\\core\\frame.py:736\u001b[0m, in \u001b[0;36mDataFrame.__init__\u001b[1;34m(self, data, index, columns, dtype, copy)\u001b[0m\n\u001b[0;32m    730\u001b[0m     mgr \u001b[39m=\u001b[39m \u001b[39mself\u001b[39m\u001b[39m.\u001b[39m_init_mgr(\n\u001b[0;32m    731\u001b[0m         data, axes\u001b[39m=\u001b[39m{\u001b[39m\"\u001b[39m\u001b[39mindex\u001b[39m\u001b[39m\"\u001b[39m: index, \u001b[39m\"\u001b[39m\u001b[39mcolumns\u001b[39m\u001b[39m\"\u001b[39m: columns}, dtype\u001b[39m=\u001b[39mdtype, copy\u001b[39m=\u001b[39mcopy\n\u001b[0;32m    732\u001b[0m     )\n\u001b[0;32m    734\u001b[0m \u001b[39melif\u001b[39;00m \u001b[39misinstance\u001b[39m(data, \u001b[39mdict\u001b[39m):\n\u001b[0;32m    735\u001b[0m     \u001b[39m# GH#38939 de facto copy defaults to False only in non-dict cases\u001b[39;00m\n\u001b[1;32m--> 736\u001b[0m     mgr \u001b[39m=\u001b[39m dict_to_mgr(data, index, columns, dtype\u001b[39m=\u001b[39;49mdtype, copy\u001b[39m=\u001b[39;49mcopy, typ\u001b[39m=\u001b[39;49mmanager)\n\u001b[0;32m    737\u001b[0m \u001b[39melif\u001b[39;00m \u001b[39misinstance\u001b[39m(data, ma\u001b[39m.\u001b[39mMaskedArray):\n\u001b[0;32m    738\u001b[0m     \u001b[39mfrom\u001b[39;00m \u001b[39mnumpy\u001b[39;00m\u001b[39m.\u001b[39;00m\u001b[39mma\u001b[39;00m \u001b[39mimport\u001b[39;00m mrecords\n",
      "File \u001b[1;32mc:\\Users\\tomkj\\anaconda3\\envs\\autobot\\lib\\site-packages\\pandas\\core\\internals\\construction.py:503\u001b[0m, in \u001b[0;36mdict_to_mgr\u001b[1;34m(data, index, columns, dtype, typ, copy)\u001b[0m\n\u001b[0;32m    499\u001b[0m     \u001b[39melse\u001b[39;00m:\n\u001b[0;32m    500\u001b[0m         \u001b[39m# dtype check to exclude e.g. range objects, scalars\u001b[39;00m\n\u001b[0;32m    501\u001b[0m         arrays \u001b[39m=\u001b[39m [x\u001b[39m.\u001b[39mcopy() \u001b[39mif\u001b[39;00m \u001b[39mhasattr\u001b[39m(x, \u001b[39m\"\u001b[39m\u001b[39mdtype\u001b[39m\u001b[39m\"\u001b[39m) \u001b[39melse\u001b[39;00m x \u001b[39mfor\u001b[39;00m x \u001b[39min\u001b[39;00m arrays]\n\u001b[1;32m--> 503\u001b[0m \u001b[39mreturn\u001b[39;00m arrays_to_mgr(arrays, columns, index, dtype\u001b[39m=\u001b[39;49mdtype, typ\u001b[39m=\u001b[39;49mtyp, consolidate\u001b[39m=\u001b[39;49mcopy)\n",
      "File \u001b[1;32mc:\\Users\\tomkj\\anaconda3\\envs\\autobot\\lib\\site-packages\\pandas\\core\\internals\\construction.py:114\u001b[0m, in \u001b[0;36marrays_to_mgr\u001b[1;34m(arrays, columns, index, dtype, verify_integrity, typ, consolidate)\u001b[0m\n\u001b[0;32m    111\u001b[0m \u001b[39mif\u001b[39;00m verify_integrity:\n\u001b[0;32m    112\u001b[0m     \u001b[39m# figure out the index, if necessary\u001b[39;00m\n\u001b[0;32m    113\u001b[0m     \u001b[39mif\u001b[39;00m index \u001b[39mis\u001b[39;00m \u001b[39mNone\u001b[39;00m:\n\u001b[1;32m--> 114\u001b[0m         index \u001b[39m=\u001b[39m _extract_index(arrays)\n\u001b[0;32m    115\u001b[0m     \u001b[39melse\u001b[39;00m:\n\u001b[0;32m    116\u001b[0m         index \u001b[39m=\u001b[39m ensure_index(index)\n",
      "File \u001b[1;32mc:\\Users\\tomkj\\anaconda3\\envs\\autobot\\lib\\site-packages\\pandas\\core\\internals\\construction.py:677\u001b[0m, in \u001b[0;36m_extract_index\u001b[1;34m(data)\u001b[0m\n\u001b[0;32m    675\u001b[0m lengths \u001b[39m=\u001b[39m \u001b[39mlist\u001b[39m(\u001b[39mset\u001b[39m(raw_lengths))\n\u001b[0;32m    676\u001b[0m \u001b[39mif\u001b[39;00m \u001b[39mlen\u001b[39m(lengths) \u001b[39m>\u001b[39m \u001b[39m1\u001b[39m:\n\u001b[1;32m--> 677\u001b[0m     \u001b[39mraise\u001b[39;00m \u001b[39mValueError\u001b[39;00m(\u001b[39m\"\u001b[39m\u001b[39mAll arrays must be of the same length\u001b[39m\u001b[39m\"\u001b[39m)\n\u001b[0;32m    679\u001b[0m \u001b[39mif\u001b[39;00m have_dicts:\n\u001b[0;32m    680\u001b[0m     \u001b[39mraise\u001b[39;00m \u001b[39mValueError\u001b[39;00m(\n\u001b[0;32m    681\u001b[0m         \u001b[39m\"\u001b[39m\u001b[39mMixing dicts with non-Series may lead to ambiguous ordering.\u001b[39m\u001b[39m\"\u001b[39m\n\u001b[0;32m    682\u001b[0m     )\n",
      "\u001b[1;31mValueError\u001b[0m: All arrays must be of the same length"
     ]
    }
   ],
   "source": [
    "# 예측 성공 여부 계산\n",
    "prediction_success = [\n",
    "    1 if (historical_predictions[i] == 1 and historical_data['close'][window_size + forecast_days - 1 + i] > historical_data['close'][window_size + forecast_days - 1 + i - forecast_days]) or\n",
    "       (historical_predictions[i] == 0 and historical_data['close'][window_size + forecast_days - 1 + i] < historical_data['close'][window_size + forecast_days - 1 + i - forecast_days])\n",
    "    else 0\n",
    "    for i in range(len(historical_predictions))\n",
    "]\n",
    "\n",
    "# DataFrame 생성\n",
    "backtesting_df = pd.DataFrame({\n",
    "    'Date': dates,\n",
    "    'Open': historical_data['open'][window_size + forecast_days - 1:window_size + forecast_days - 1 + len(historical_predictions)],\n",
    "    'High': historical_data['high'][window_size + forecast_days - 1:window_size + forecast_days - 1 + len(historical_predictions)],\n",
    "    'Low': historical_data['low'][window_size + forecast_days - 1:window_size + forecast_days - 1 + len(historical_predictions)],\n",
    "    'Close': historical_data['close'][window_size + forecast_days - 1:window_size + forecast_days - 1 + len(historical_predictions)],\n",
    "    'Profit': profit_history,\n",
    "    'Capital': capital_history,  # 첫 번째 초기 자본 제외\n",
    "    'Prediction': historical_predictions,\n",
    "    'Prediction Success': prediction_success\n",
    "})\n",
    "\n",
    "# DataFrame 출력\n",
    "print(backtesting_df)\n"
   ]
  },
  {
   "cell_type": "code",
   "execution_count": 165,
   "metadata": {},
   "outputs": [
    {
     "data": {
      "text/plain": [
       "1395"
      ]
     },
     "execution_count": 165,
     "metadata": {},
     "output_type": "execute_result"
    }
   ],
   "source": [
    "len(dates)"
   ]
  },
  {
   "cell_type": "code",
   "execution_count": 121,
   "metadata": {},
   "outputs": [],
   "source": [
    "count_ones = (backtesting_df['Prediction Success'] == 1).sum()"
   ]
  },
  {
   "cell_type": "code",
   "execution_count": 122,
   "metadata": {},
   "outputs": [
    {
     "data": {
      "text/plain": [
       "1209"
      ]
     },
     "execution_count": 122,
     "metadata": {},
     "output_type": "execute_result"
    }
   ],
   "source": [
    "count_ones"
   ]
  },
  {
   "cell_type": "code",
   "execution_count": 86,
   "metadata": {},
   "outputs": [],
   "source": [
    "backtesting_df.to_excel(\"backtest.xlsx\")"
   ]
  }
 ],
 "metadata": {
  "kernelspec": {
   "display_name": "autobot",
   "language": "python",
   "name": "python3"
  },
  "language_info": {
   "codemirror_mode": {
    "name": "ipython",
    "version": 3
   },
   "file_extension": ".py",
   "mimetype": "text/x-python",
   "name": "python",
   "nbconvert_exporter": "python",
   "pygments_lexer": "ipython3",
   "version": "3.9.18"
  }
 },
 "nbformat": 4,
 "nbformat_minor": 2
}
